{
  "cells": [
    {
      "cell_type": "markdown",
      "metadata": {
        "id": "view-in-github",
        "colab_type": "text"
      },
      "source": [
        "<a href=\"https://colab.research.google.com/github/pranav1246/Tds-project-1/blob/main/resume_project.ipynb\" target=\"_parent\"><img src=\"https://colab.research.google.com/assets/colab-badge.svg\" alt=\"Open In Colab\"/></a>"
      ]
    },
    {
      "cell_type": "code",
      "execution_count": null,
      "id": "6102fc60",
      "metadata": {
        "id": "6102fc60"
      },
      "outputs": [],
      "source": [
        "# !pip install pandas numpy torch transformers pdfplumber spacy nltk datasets fastapi streamlit\n",
        "# !pip install scikit-learn matplotlib seaborn\n",
        "# !pip install pytorch-lightning\n",
        "# !python -m spacy download en_core_web_sm\n"
      ]
    },
    {
      "cell_type": "code",
      "execution_count": 4,
      "id": "c6588c58",
      "metadata": {
        "colab": {
          "base_uri": "https://localhost:8080/",
          "height": 224
        },
        "id": "c6588c58",
        "outputId": "8bb4330d-78b1-4d2c-e4b2-a30359ad8df2"
      },
      "outputs": [
        {
          "output_type": "execute_result",
          "data": {
            "text/plain": [
              "   person_id                                               name email phone  \\\n",
              "0          1                             Database Administrator   NaN   NaN   \n",
              "1          2                             Database Administrator   NaN   NaN   \n",
              "2          3                      Oracle Database Administrator   NaN   NaN   \n",
              "3          4  Amazon Redshift Administrator and ETL Develope...   NaN   NaN   \n",
              "4          5             Scrum Master Scrum Master Scrum Master   NaN   NaN   \n",
              "\n",
              "  linkedin  \n",
              "0      NaN  \n",
              "1      NaN  \n",
              "2      NaN  \n",
              "3      NaN  \n",
              "4      NaN  "
            ],
            "text/html": [
              "\n",
              "  <div id=\"df-26d14410-6ebb-4f07-ace7-2b5288c9a339\" class=\"colab-df-container\">\n",
              "    <div>\n",
              "<style scoped>\n",
              "    .dataframe tbody tr th:only-of-type {\n",
              "        vertical-align: middle;\n",
              "    }\n",
              "\n",
              "    .dataframe tbody tr th {\n",
              "        vertical-align: top;\n",
              "    }\n",
              "\n",
              "    .dataframe thead th {\n",
              "        text-align: right;\n",
              "    }\n",
              "</style>\n",
              "<table border=\"1\" class=\"dataframe\">\n",
              "  <thead>\n",
              "    <tr style=\"text-align: right;\">\n",
              "      <th></th>\n",
              "      <th>person_id</th>\n",
              "      <th>name</th>\n",
              "      <th>email</th>\n",
              "      <th>phone</th>\n",
              "      <th>linkedin</th>\n",
              "    </tr>\n",
              "  </thead>\n",
              "  <tbody>\n",
              "    <tr>\n",
              "      <th>0</th>\n",
              "      <td>1</td>\n",
              "      <td>Database Administrator</td>\n",
              "      <td>NaN</td>\n",
              "      <td>NaN</td>\n",
              "      <td>NaN</td>\n",
              "    </tr>\n",
              "    <tr>\n",
              "      <th>1</th>\n",
              "      <td>2</td>\n",
              "      <td>Database Administrator</td>\n",
              "      <td>NaN</td>\n",
              "      <td>NaN</td>\n",
              "      <td>NaN</td>\n",
              "    </tr>\n",
              "    <tr>\n",
              "      <th>2</th>\n",
              "      <td>3</td>\n",
              "      <td>Oracle Database Administrator</td>\n",
              "      <td>NaN</td>\n",
              "      <td>NaN</td>\n",
              "      <td>NaN</td>\n",
              "    </tr>\n",
              "    <tr>\n",
              "      <th>3</th>\n",
              "      <td>4</td>\n",
              "      <td>Amazon Redshift Administrator and ETL Develope...</td>\n",
              "      <td>NaN</td>\n",
              "      <td>NaN</td>\n",
              "      <td>NaN</td>\n",
              "    </tr>\n",
              "    <tr>\n",
              "      <th>4</th>\n",
              "      <td>5</td>\n",
              "      <td>Scrum Master Scrum Master Scrum Master</td>\n",
              "      <td>NaN</td>\n",
              "      <td>NaN</td>\n",
              "      <td>NaN</td>\n",
              "    </tr>\n",
              "  </tbody>\n",
              "</table>\n",
              "</div>\n",
              "    <div class=\"colab-df-buttons\">\n",
              "\n",
              "  <div class=\"colab-df-container\">\n",
              "    <button class=\"colab-df-convert\" onclick=\"convertToInteractive('df-26d14410-6ebb-4f07-ace7-2b5288c9a339')\"\n",
              "            title=\"Convert this dataframe to an interactive table.\"\n",
              "            style=\"display:none;\">\n",
              "\n",
              "  <svg xmlns=\"http://www.w3.org/2000/svg\" height=\"24px\" viewBox=\"0 -960 960 960\">\n",
              "    <path d=\"M120-120v-720h720v720H120Zm60-500h600v-160H180v160Zm220 220h160v-160H400v160Zm0 220h160v-160H400v160ZM180-400h160v-160H180v160Zm440 0h160v-160H620v160ZM180-180h160v-160H180v160Zm440 0h160v-160H620v160Z\"/>\n",
              "  </svg>\n",
              "    </button>\n",
              "\n",
              "  <style>\n",
              "    .colab-df-container {\n",
              "      display:flex;\n",
              "      gap: 12px;\n",
              "    }\n",
              "\n",
              "    .colab-df-convert {\n",
              "      background-color: #E8F0FE;\n",
              "      border: none;\n",
              "      border-radius: 50%;\n",
              "      cursor: pointer;\n",
              "      display: none;\n",
              "      fill: #1967D2;\n",
              "      height: 32px;\n",
              "      padding: 0 0 0 0;\n",
              "      width: 32px;\n",
              "    }\n",
              "\n",
              "    .colab-df-convert:hover {\n",
              "      background-color: #E2EBFA;\n",
              "      box-shadow: 0px 1px 2px rgba(60, 64, 67, 0.3), 0px 1px 3px 1px rgba(60, 64, 67, 0.15);\n",
              "      fill: #174EA6;\n",
              "    }\n",
              "\n",
              "    .colab-df-buttons div {\n",
              "      margin-bottom: 4px;\n",
              "    }\n",
              "\n",
              "    [theme=dark] .colab-df-convert {\n",
              "      background-color: #3B4455;\n",
              "      fill: #D2E3FC;\n",
              "    }\n",
              "\n",
              "    [theme=dark] .colab-df-convert:hover {\n",
              "      background-color: #434B5C;\n",
              "      box-shadow: 0px 1px 3px 1px rgba(0, 0, 0, 0.15);\n",
              "      filter: drop-shadow(0px 1px 2px rgba(0, 0, 0, 0.3));\n",
              "      fill: #FFFFFF;\n",
              "    }\n",
              "  </style>\n",
              "\n",
              "    <script>\n",
              "      const buttonEl =\n",
              "        document.querySelector('#df-26d14410-6ebb-4f07-ace7-2b5288c9a339 button.colab-df-convert');\n",
              "      buttonEl.style.display =\n",
              "        google.colab.kernel.accessAllowed ? 'block' : 'none';\n",
              "\n",
              "      async function convertToInteractive(key) {\n",
              "        const element = document.querySelector('#df-26d14410-6ebb-4f07-ace7-2b5288c9a339');\n",
              "        const dataTable =\n",
              "          await google.colab.kernel.invokeFunction('convertToInteractive',\n",
              "                                                    [key], {});\n",
              "        if (!dataTable) return;\n",
              "\n",
              "        const docLinkHtml = 'Like what you see? Visit the ' +\n",
              "          '<a target=\"_blank\" href=https://colab.research.google.com/notebooks/data_table.ipynb>data table notebook</a>'\n",
              "          + ' to learn more about interactive tables.';\n",
              "        element.innerHTML = '';\n",
              "        dataTable['output_type'] = 'display_data';\n",
              "        await google.colab.output.renderOutput(dataTable, element);\n",
              "        const docLink = document.createElement('div');\n",
              "        docLink.innerHTML = docLinkHtml;\n",
              "        element.appendChild(docLink);\n",
              "      }\n",
              "    </script>\n",
              "  </div>\n",
              "\n",
              "\n",
              "<div id=\"df-cadb06b2-1037-4838-a11a-80ff45f6d0bc\">\n",
              "  <button class=\"colab-df-quickchart\" onclick=\"quickchart('df-cadb06b2-1037-4838-a11a-80ff45f6d0bc')\"\n",
              "            title=\"Suggest charts\"\n",
              "            style=\"display:none;\">\n",
              "\n",
              "<svg xmlns=\"http://www.w3.org/2000/svg\" height=\"24px\"viewBox=\"0 0 24 24\"\n",
              "     width=\"24px\">\n",
              "    <g>\n",
              "        <path d=\"M19 3H5c-1.1 0-2 .9-2 2v14c0 1.1.9 2 2 2h14c1.1 0 2-.9 2-2V5c0-1.1-.9-2-2-2zM9 17H7v-7h2v7zm4 0h-2V7h2v10zm4 0h-2v-4h2v4z\"/>\n",
              "    </g>\n",
              "</svg>\n",
              "  </button>\n",
              "\n",
              "<style>\n",
              "  .colab-df-quickchart {\n",
              "      --bg-color: #E8F0FE;\n",
              "      --fill-color: #1967D2;\n",
              "      --hover-bg-color: #E2EBFA;\n",
              "      --hover-fill-color: #174EA6;\n",
              "      --disabled-fill-color: #AAA;\n",
              "      --disabled-bg-color: #DDD;\n",
              "  }\n",
              "\n",
              "  [theme=dark] .colab-df-quickchart {\n",
              "      --bg-color: #3B4455;\n",
              "      --fill-color: #D2E3FC;\n",
              "      --hover-bg-color: #434B5C;\n",
              "      --hover-fill-color: #FFFFFF;\n",
              "      --disabled-bg-color: #3B4455;\n",
              "      --disabled-fill-color: #666;\n",
              "  }\n",
              "\n",
              "  .colab-df-quickchart {\n",
              "    background-color: var(--bg-color);\n",
              "    border: none;\n",
              "    border-radius: 50%;\n",
              "    cursor: pointer;\n",
              "    display: none;\n",
              "    fill: var(--fill-color);\n",
              "    height: 32px;\n",
              "    padding: 0;\n",
              "    width: 32px;\n",
              "  }\n",
              "\n",
              "  .colab-df-quickchart:hover {\n",
              "    background-color: var(--hover-bg-color);\n",
              "    box-shadow: 0 1px 2px rgba(60, 64, 67, 0.3), 0 1px 3px 1px rgba(60, 64, 67, 0.15);\n",
              "    fill: var(--button-hover-fill-color);\n",
              "  }\n",
              "\n",
              "  .colab-df-quickchart-complete:disabled,\n",
              "  .colab-df-quickchart-complete:disabled:hover {\n",
              "    background-color: var(--disabled-bg-color);\n",
              "    fill: var(--disabled-fill-color);\n",
              "    box-shadow: none;\n",
              "  }\n",
              "\n",
              "  .colab-df-spinner {\n",
              "    border: 2px solid var(--fill-color);\n",
              "    border-color: transparent;\n",
              "    border-bottom-color: var(--fill-color);\n",
              "    animation:\n",
              "      spin 1s steps(1) infinite;\n",
              "  }\n",
              "\n",
              "  @keyframes spin {\n",
              "    0% {\n",
              "      border-color: transparent;\n",
              "      border-bottom-color: var(--fill-color);\n",
              "      border-left-color: var(--fill-color);\n",
              "    }\n",
              "    20% {\n",
              "      border-color: transparent;\n",
              "      border-left-color: var(--fill-color);\n",
              "      border-top-color: var(--fill-color);\n",
              "    }\n",
              "    30% {\n",
              "      border-color: transparent;\n",
              "      border-left-color: var(--fill-color);\n",
              "      border-top-color: var(--fill-color);\n",
              "      border-right-color: var(--fill-color);\n",
              "    }\n",
              "    40% {\n",
              "      border-color: transparent;\n",
              "      border-right-color: var(--fill-color);\n",
              "      border-top-color: var(--fill-color);\n",
              "    }\n",
              "    60% {\n",
              "      border-color: transparent;\n",
              "      border-right-color: var(--fill-color);\n",
              "    }\n",
              "    80% {\n",
              "      border-color: transparent;\n",
              "      border-right-color: var(--fill-color);\n",
              "      border-bottom-color: var(--fill-color);\n",
              "    }\n",
              "    90% {\n",
              "      border-color: transparent;\n",
              "      border-bottom-color: var(--fill-color);\n",
              "    }\n",
              "  }\n",
              "</style>\n",
              "\n",
              "  <script>\n",
              "    async function quickchart(key) {\n",
              "      const quickchartButtonEl =\n",
              "        document.querySelector('#' + key + ' button');\n",
              "      quickchartButtonEl.disabled = true;  // To prevent multiple clicks.\n",
              "      quickchartButtonEl.classList.add('colab-df-spinner');\n",
              "      try {\n",
              "        const charts = await google.colab.kernel.invokeFunction(\n",
              "            'suggestCharts', [key], {});\n",
              "      } catch (error) {\n",
              "        console.error('Error during call to suggestCharts:', error);\n",
              "      }\n",
              "      quickchartButtonEl.classList.remove('colab-df-spinner');\n",
              "      quickchartButtonEl.classList.add('colab-df-quickchart-complete');\n",
              "    }\n",
              "    (() => {\n",
              "      let quickchartButtonEl =\n",
              "        document.querySelector('#df-cadb06b2-1037-4838-a11a-80ff45f6d0bc button');\n",
              "      quickchartButtonEl.style.display =\n",
              "        google.colab.kernel.accessAllowed ? 'block' : 'none';\n",
              "    })();\n",
              "  </script>\n",
              "</div>\n",
              "\n",
              "    </div>\n",
              "  </div>\n"
            ],
            "application/vnd.google.colaboratory.intrinsic+json": {
              "type": "dataframe",
              "variable_name": "df",
              "summary": "{\n  \"name\": \"df\",\n  \"rows\": 54933,\n  \"fields\": [\n    {\n      \"column\": \"person_id\",\n      \"properties\": {\n        \"dtype\": \"number\",\n        \"std\": 15857,\n        \"min\": 1,\n        \"max\": 54933,\n        \"num_unique_values\": 54933,\n        \"samples\": [\n          19960,\n          11490,\n          18742\n        ],\n        \"semantic_type\": \"\",\n        \"description\": \"\"\n      }\n    },\n    {\n      \"column\": \"name\",\n      \"properties\": {\n        \"dtype\": \"category\",\n        \"num_unique_values\": 10529,\n        \"samples\": [\n          \"Global IT Project Manager/Sr.Infrastructure engineer/ Data Center Manager\",\n          \"Jordon Buchanan\",\n          \"Shubham Makharia\"\n        ],\n        \"semantic_type\": \"\",\n        \"description\": \"\"\n      }\n    },\n    {\n      \"column\": \"email\",\n      \"properties\": {\n        \"dtype\": \"category\",\n        \"num_unique_values\": 512,\n        \"samples\": [\n          \"~~~~~~\",\n          \"harilmehta94@gmail.com\",\n          \"samgraveno@comcast.net\"\n        ],\n        \"semantic_type\": \"\",\n        \"description\": \"\"\n      }\n    },\n    {\n      \"column\": \"phone\",\n      \"properties\": {\n        \"dtype\": \"category\",\n        \"num_unique_values\": 581,\n        \"samples\": [\n          \"201-423-6079\",\n          \"(702) 686-5775\",\n          \"(954) 205-8944\"\n        ],\n        \"semantic_type\": \"\",\n        \"description\": \"\"\n      }\n    },\n    {\n      \"column\": \"linkedin\",\n      \"properties\": {\n        \"dtype\": \"category\",\n        \"num_unique_values\": 2789,\n        \"samples\": [\n          \"http://www.linkedin.com/in/jparker1284\",\n          \"https://www.linkedin.com/in/chuckwandall\",\n          \"http://linkedin.com/in/stephanie-wynn-jones-05555023\"\n        ],\n        \"semantic_type\": \"\",\n        \"description\": \"\"\n      }\n    }\n  ]\n}"
            }
          },
          "metadata": {},
          "execution_count": 4
        }
      ],
      "source": [
        "import pandas as pd\n",
        "df = pd.read_csv(\"01_people.csv\")\n",
        "df.head()\n",
        "\n"
      ]
    },
    {
      "cell_type": "code",
      "execution_count": 5,
      "id": "ac8f6ae1",
      "metadata": {
        "colab": {
          "base_uri": "https://localhost:8080/"
        },
        "id": "ac8f6ae1",
        "outputId": "d703bd09-f294-4d88-c151-55afe181db06"
      },
      "outputs": [
        {
          "output_type": "stream",
          "name": "stdout",
          "text": [
            "{'content': \"Abhishek Jha\\nApplication Development Associate - Accenture\\n\\nBengaluru, Karnataka - Email me on Indeed: indeed.com/r/Abhishek-Jha/10e7a8cb732bc43a\\n\\n• To work for an organization which provides me the opportunity to improve my skills\\nand knowledge for my individual and company's growth in best possible ways.\\n\\nWilling to relocate to: Bangalore, Karnataka\\n\\nWORK EXPERIENCE\\n\\nApplication Development Associate\\n\\nAccenture -\\n\\nNovember 2017 to Present\\n\\nRole: Currently working on Chat-bot. Developing Backend Oracle PeopleSoft Queries\\nfor the Bot which will be triggered based on given input. Also, Training the bot for different possible\\nutterances (Both positive and negative), which will be given as\\ninput by the user.\\n\\nEDUCATION\\n\\nB.E in Information science and engineering\\n\\nB.v.b college of engineering and technology -  Hubli, Karnataka\\n\\nAugust 2013 to June 2017\\n\\n12th in Mathematics\\n\\nWoodbine modern school\\n\\nApril 2011 to March 2013\\n\\n10th\\n\\nKendriya Vidyalaya\\n\\nApril 2001 to March 2011\\n\\nSKILLS\\n\\nC (Less than 1 year), Database (Less than 1 year), Database Management (Less than 1 year),\\nDatabase Management System (Less than 1 year), Java (Less than 1 year)\\n\\nADDITIONAL INFORMATION\\n\\nTechnical Skills\\n\\nhttps://www.indeed.com/r/Abhishek-Jha/10e7a8cb732bc43a?isid=rex-download&ikw=download-top&co=IN\\n\\n\\n• Programming language: C, C++, Java\\n• Oracle PeopleSoft\\n• Internet Of Things\\n• Machine Learning\\n• Database Management System\\n• Computer Networks\\n• Operating System worked on: Linux, Windows, Mac\\n\\nNon - Technical Skills\\n\\n• Honest and Hard-Working\\n• Tolerant and Flexible to Different Situations\\n• Polite and Calm\\n• Team-Player\", 'annotation': [{'label': ['Skills'], 'points': [{'start': 1295, 'end': 1621, 'text': '\\n• Programming language: C, C++, Java\\n• Oracle PeopleSoft\\n• Internet Of Things\\n• Machine Learning\\n• Database Management System\\n• Computer Networks\\n• Operating System worked on: Linux, Windows, Mac\\n\\nNon - Technical Skills\\n\\n• Honest and Hard-Working\\n• Tolerant and Flexible to Different Situations\\n• Polite and Calm\\n• Team-Player'}]}, {'label': ['Skills'], 'points': [{'start': 993, 'end': 1153, 'text': 'C (Less than 1 year), Database (Less than 1 year), Database Management (Less than 1 year),\\nDatabase Management System (Less than 1 year), Java (Less than 1 year)'}]}, {'label': ['College Name'], 'points': [{'start': 939, 'end': 956, 'text': 'Kendriya Vidyalaya'}]}, {'label': ['College Name'], 'points': [{'start': 883, 'end': 904, 'text': 'Woodbine modern school'}]}, {'label': ['Graduation Year'], 'points': [{'start': 856, 'end': 860, 'text': '2017\\n'}]}, {'label': ['College Name'], 'points': [{'start': 771, 'end': 813, 'text': 'B.v.b college of engineering and technology'}]}, {'label': ['Designation'], 'points': [{'start': 727, 'end': 769, 'text': 'B.E in Information science and engineering\\n'}]}, {'label': ['Companies worked at'], 'points': [{'start': 407, 'end': 415, 'text': 'Accenture'}]}, {'label': ['Designation'], 'points': [{'start': 372, 'end': 404, 'text': 'Application Development Associate'}]}, {'label': ['Email Address'], 'points': [{'start': 95, 'end': 145, 'text': 'Indeed: indeed.com/r/Abhishek-Jha/10e7a8cb732bc43a\\n'}]}, {'label': ['Location'], 'points': [{'start': 60, 'end': 68, 'text': 'Bengaluru'}]}, {'label': ['Companies worked at'], 'points': [{'start': 49, 'end': 57, 'text': 'Accenture'}]}, {'label': ['Designation'], 'points': [{'start': 13, 'end': 45, 'text': 'Application Development Associate'}]}, {'label': ['Name'], 'points': [{'start': 0, 'end': 11, 'text': 'Abhishek Jha'}]}], 'extras': None}\n"
          ]
        }
      ],
      "source": [
        "import json\n",
        "with open(\"fixed.json\", \"r\", encoding=\"utf-8\") as file:\n",
        "    ner_data = json.load(file)\n",
        "print(ner_data[0])\n"
      ]
    },
    {
      "cell_type": "code",
      "execution_count": 6,
      "id": "dec0ec2f",
      "metadata": {
        "colab": {
          "base_uri": "https://localhost:8080/"
        },
        "id": "dec0ec2f",
        "outputId": "39c4f6ce-657c-4bb9-dae9-63c38e55ab81"
      },
      "outputs": [
        {
          "output_type": "stream",
          "name": "stderr",
          "text": [
            "[nltk_data] Downloading package stopwords to /root/nltk_data...\n",
            "[nltk_data]   Package stopwords is already up-to-date!\n"
          ]
        },
        {
          "output_type": "stream",
          "name": "stdout",
          "text": [
            "       person_id                                               name email  \\\n",
            "0              1                             Database Administrator   NaN   \n",
            "1              2                             Database Administrator   NaN   \n",
            "2              3                      Oracle Database Administrator   NaN   \n",
            "3              4  Amazon Redshift Administrator and ETL Develope...   NaN   \n",
            "4              5             Scrum Master Scrum Master Scrum Master   NaN   \n",
            "...          ...                                                ...   ...   \n",
            "54928      54929                              Lead Python Developer   NaN   \n",
            "54929      54930                        Full Stack Python Developer   NaN   \n",
            "54930      54931                                          Eli Lilly   NaN   \n",
            "54931      54932                                   Python Developer   NaN   \n",
            "54932      54933                                         Job Seeker   NaN   \n",
            "\n",
            "      phone linkedin                                       cleaned_name  \n",
            "0       NaN      NaN                             database administrator  \n",
            "1       NaN      NaN                             database administrator  \n",
            "2       NaN      NaN                      oracle database administrator  \n",
            "3       NaN      NaN  amazon redshift administrator etl developer bu...  \n",
            "4       NaN      NaN             scrum master scrum master scrum master  \n",
            "...     ...      ...                                                ...  \n",
            "54928   NaN      NaN                              lead python developer  \n",
            "54929   NaN      NaN                        full stack python developer  \n",
            "54930   NaN      NaN                                          eli lilly  \n",
            "54931   NaN      NaN                                   python developer  \n",
            "54932   NaN      NaN                                         job seeker  \n",
            "\n",
            "[54933 rows x 6 columns]\n"
          ]
        }
      ],
      "source": [
        "import re\n",
        "import nltk\n",
        "import pandas as pd\n",
        "from nltk.corpus import stopwords\n",
        "\n",
        "\n",
        "nltk.download(\"stopwords\")\n",
        "stop_words = set(stopwords.words(\"english\"))\n",
        "\n",
        "def clean_text(text):\n",
        "    if not isinstance(text, str):\n",
        "        return \"\"\n",
        "\n",
        "    text = re.sub(r'\\s+', ' ', text)\n",
        "    text = re.sub(r'[^\\w\\s]', '', text)\n",
        "    text = text.lower()\n",
        "    text = \" \".join([word for word in text.split() if word not in stop_words])\n",
        "    return text\n",
        "\n",
        "\n",
        "df[\"cleaned_name\"] = df[\"name\"].apply(clean_text)\n",
        "\n",
        "\n",
        "print(df)\n"
      ]
    },
    {
      "cell_type": "code",
      "execution_count": 7,
      "id": "e9816907",
      "metadata": {
        "colab": {
          "base_uri": "https://localhost:8080/"
        },
        "id": "e9816907",
        "outputId": "9a10ab85-d8cc-4105-d150-357591290db7"
      },
      "outputs": [
        {
          "output_type": "stream",
          "name": "stdout",
          "text": [
            "[(\"Abhishek Jha\\nApplication Development Associate - Accenture\\n\\nBengaluru, Karnataka - Email me on Indeed: indeed.com/r/Abhishek-Jha/10e7a8cb732bc43a\\n\\n• To work for an organization which provides me the opportunity to improve my skills\\nand knowledge for my individual and company's growth in best possible ways.\\n\\nWilling to relocate to: Bangalore, Karnataka\\n\\nWORK EXPERIENCE\\n\\nApplication Development Associate\\n\\nAccenture -\\n\\nNovember 2017 to Present\\n\\nRole: Currently working on Chat-bot. Developing Backend Oracle PeopleSoft Queries\\nfor the Bot which will be triggered based on given input. Also, Training the bot for different possible\\nutterances (Both positive and negative), which will be given as\\ninput by the user.\\n\\nEDUCATION\\n\\nB.E in Information science and engineering\\n\\nB.v.b college of engineering and technology -  Hubli, Karnataka\\n\\nAugust 2013 to June 2017\\n\\n12th in Mathematics\\n\\nWoodbine modern school\\n\\nApril 2011 to March 2013\\n\\n10th\\n\\nKendriya Vidyalaya\\n\\nApril 2001 to March 2011\\n\\nSKILLS\\n\\nC (Less than 1 year), Database (Less than 1 year), Database Management (Less than 1 year),\\nDatabase Management System (Less than 1 year), Java (Less than 1 year)\\n\\nADDITIONAL INFORMATION\\n\\nTechnical Skills\\n\\nhttps://www.indeed.com/r/Abhishek-Jha/10e7a8cb732bc43a?isid=rex-download&ikw=download-top&co=IN\\n\\n\\n• Programming language: C, C++, Java\\n• Oracle PeopleSoft\\n• Internet Of Things\\n• Machine Learning\\n• Database Management System\\n• Computer Networks\\n• Operating System worked on: Linux, Windows, Mac\\n\\nNon - Technical Skills\\n\\n• Honest and Hard-Working\\n• Tolerant and Flexible to Different Situations\\n• Polite and Calm\\n• Team-Player\", {'Skills': 'C (Less than 1 year), Database (Less than 1 year), Database Management (Less than 1 year),\\nDatabase Management System (Less than 1 year), Java (Less than 1 year)', 'College Name': 'B.v.b college of engineering and technology', 'Graduation Year': '2017\\n', 'Designation': 'Application Development Associate', 'Companies worked at': 'Accenture', 'Email Address': 'Indeed: indeed.com/r/Abhishek-Jha/10e7a8cb732bc43a\\n', 'Location': 'Bengaluru', 'Name': 'Abhishek Jha'}), ('Afreen Jamadar\\nActive member of IIIT Committee in Third year\\n\\nSangli, Maharashtra - Email me on Indeed: indeed.com/r/Afreen-Jamadar/8baf379b705e37c6\\n\\nI wish to use my knowledge, skills and conceptual understanding to create excellent team\\nenvironments and work consistently achieving organization objectives believes in taking initiative\\nand work to excellence in my work.\\n\\nWORK EXPERIENCE\\n\\nActive member of IIIT Committee in Third year\\n\\nCisco Networking -  Kanpur, Uttar Pradesh\\n\\norganized by Techkriti IIT Kanpur and Azure Skynet.\\nPERSONALLITY TRAITS:\\n• Quick learning ability\\n• hard working\\n\\nEDUCATION\\n\\nPG-DAC\\n\\nCDAC ACTS\\n\\n2017\\n\\nBachelor of Engg in Information Technology\\n\\nShivaji University Kolhapur -  Kolhapur, Maharashtra\\n\\n2016\\n\\nSKILLS\\n\\nDatabase (Less than 1 year), HTML (Less than 1 year), Linux. (Less than 1 year), MICROSOFT\\nACCESS (Less than 1 year), MICROSOFT WINDOWS (Less than 1 year)\\n\\nADDITIONAL INFORMATION\\n\\nTECHNICAL SKILLS:\\n\\n• Programming Languages: C, C++, Java, .net, php.\\n• Web Designing: HTML, XML\\n• Operating Systems: Windows […] Windows Server 2003, Linux.\\n• Database: MS Access, MS SQL Server 2008, Oracle 10g, MySql.\\n\\nhttps://www.indeed.com/r/Afreen-Jamadar/8baf379b705e37c6?isid=rex-download&ikw=download-top&co=IN', {'Email Address': 'indeed.com/r/Afreen-Jamadar/8baf379b705e37c6', 'Skills': 'Database (Less than 1 year), HTML (Less than 1 year), Linux. (Less than 1 year), MICROSOFT\\nACCESS (Less than 1 year), MICROSOFT WINDOWS (Less than 1 year)\\n\\nADDITIONAL INFORMATION\\n\\nTECHNICAL SKILLS:\\n\\n• Programming Languages: C, C++, Java, .net, php.\\n• Web Designing: HTML, XML\\n• Operating Systems: Windows […] Windows Server 2003, Linux.\\n• Database: MS Access, MS SQL Server 2008, Oracle 10g, MySql.', 'Graduation Year': '2017\\n', 'College Name': 'CDAC ACTS', 'Degree': 'PG-DAC', 'Location': 'Sangli', 'Name': 'Afreen Jamadar'}), (\"Akhil Yadav Polemaina\\nHyderabad, Telangana - Email me on Indeed: indeed.com/r/Akhil-Yadav-Polemaina/\\nf6931801c51c63b1\\n\\n● Senior System Engineer at Infosys with 3.2 years of experience in software development and\\nMaintenance.\\n● Maintained data processing using mainframe technology for multiple front end applications of\\nWalmart Retail Link platform and ensured on-time deliverables.\\n● Worked on automating the uses cases to reduce manual effort in solving repeating incidents\\nusing Service Now orchestration.\\n● Possess good analytical, logical ability and systematic approach to problem analysis, strong\\ndebugging and troubleshooting skills.\\n● Good exposure to Retail domain.\\n\\nWilling to relocate to: hyderbad, Telangana\\n\\nWORK EXPERIENCE\\n\\nSenior Systems Engineer\\n\\nInfosys Limited -  Hyderabad, Telangana -\\n\\nJanuary 2015 to Present\\n\\n● Working on all the Major and Minor Enhancement requests as part of Maintenance and Support\\nactivities\\n● Identifying and fixing all the major defects in the applications, perform root cause analysis for\\nproduction issues\\n● Being a subject matter expert, involved in multiple Knowledge transfer and knowledge sharing\\nsessions with the client\\n● Leading a peer group and taking end to end responsibilities for all the critical issues/\\nenhancements.\\n● Identifying the use cases which can be automated using Service Now Orchestration\\n● Creating workflows to automate various tasks which involved manual intervention\\n● Direct interaction with the client on various business impacting issues on a daily basis\\n● Setting up Weekly Status Review meetings and Code Review meetings with the client\\n\\nSenior Systems Engineer\\n\\nInfosys Limited -  Hyderabad, Telangana -\\n\\nJanuary 2015 to Present\\n\\nTeam Size # 5\\nProject Objective:\\nProviding end to end Maintenance and Support activity for data processing of the most critical and\\nimportant Web portal 'Retail Link' along with over 40 applications used daily by all the Suppliers\\nand Business users of Walmart, the largest retailer in the world. Retail link is a portal which hosts\\n100's of applications developed across technologies for the suppliers which help them to carry\\non day-to-day activities right from on boarding to tracking their sales. This involves supporting\\n\\nhttps://www.indeed.com/r/Akhil-Yadav-Polemaina/f6931801c51c63b1?isid=rex-download&ikw=download-top&co=IN\\nhttps://www.indeed.com/r/Akhil-Yadav-Polemaina/f6931801c51c63b1?isid=rex-download&ikw=download-top&co=IN\\n\\n\\nvarious Decision Support System reports which helps the higher management to take business\\ncritical decisions.\\n\\nResponsibilities:\\n● Working on all the Major and Minor Enhancement requests as part of Maintenance and Support\\nactivities\\n● Identifying and fixing all the major defects in the applications, perform root cause analysis for\\nproduction issues\\n● Being a subject matter expert, involved in multiple Knowledge transfer and knowledge sharing\\nsessions with the client\\n● Leading a peer group and taking end to end responsibilities for all the critical issues/\\nenhancements.\\n● Identifying the use cases which can be automated using Service Now Orchestration\\n● Creating workflows to automate various tasks which involved manual intervention\\n● Direct interaction with the client on various business impacting issues on a daily basis\\n● Setting up Weekly Status Review meetings and Code Review meetings with the client\\n\\nEDUCATION\\n\\nElectrical and Electronics Engineering\\n\\nAnurag College of Engineering (Jntuh)\\n\\nSKILLS\\n\\nservicenow (1 year), Mainframe (3 years), cobol (3 years), Jcl (3 years), Teradata (3 years)\\n\\nADDITIONAL INFORMATION\\n\\nTechnical Skills\\n• Domain - Retail\\n• Technology - Mainframe (COBOL, JCL, DB2, Teradata), Service now.\\n• Operating System - Mainframe (z/OS)\\n• Database - DB2, SQL, Teradata.\\n• Utilities - FILE-AID, IDCAMS, DFSORT basics, LIBRARIAN, FTP/SFTP, CA-7 basics.\\n• Tools - Query Management Tool (QMF), SQL Assistant, Service now, Remedy.\\n\\nKey Strengths:\\n● Effective Communication Skills and Zeal to learn.\\n● Flexibility and Adaptability.\\n● Good Leadership Qualities.\\n● Analytical and Problem Solving Skills.\\n\\nAchievements:\\n● Received STAR award for working on various system improvement and automation activities\\n● Received multiple INSTA awards for my performance in the projects worked\", {'Skills': 'servicenow', 'College Name': 'Anurag College of Engineering (Jntuh)', 'Degree': 'Electrical and Electronics Engineering\\n', 'Location': 'Hyderabad', 'Companies worked at': 'Infosys Limited', 'Designation': 'Senior Systems Engineer', 'Email Address': 'indeed.com/r/Akhil-Yadav-Polemaina/\\nf6931801c51c63b1', 'Name': 'Akhil Yadav Polemaina'}), ('Alok Khandai\\nOperational Analyst (SQL DBA) Engineer - UNISYS\\n\\nBengaluru, Karnataka - Email me on Indeed: indeed.com/r/Alok-Khandai/5be849e443b8f467\\n\\n❖ Having 3.5 Years of IT experience in SQL Database Administration, System Analysis, Design,\\nDevelopment & Support of MS SQL Servers in Production, Development environments &\\nReplication and Cluster Server Environments.\\n❖ Working Experience with relational database such as SQL.\\n❖ Experience in Installation, Configuration, Maintenance and Administration of SQL Server.\\n❖ Experience in upgrading SQL Server.\\n❖ Good experience with implementing DR solution, High Availability of database servers using\\nDatabase mirroring and replications and Log Shipping.\\n❖ Experience in implementing SQL Server security and Object permissions like maintaining\\nDatabase authentication modes, creation of users, configuring permissions and assigning roles\\nto users.\\n❖ Experience in creating Jobs, Alerts, SQL Mail Agent\\n❖ Experience in performing integrity checks. Methods include configuring the database\\nmaintenance plan wizard and DBCC utilities\\n❖ Experience in using Performance Monitor, SQL Profiler and optimizing the queries, tracing long\\nrunning queries and deadlocks.\\n❖ Experience in applying patches and service packs to keep the database at current patch level.\\n❖ Ability to manage own work and multitask to meet tight deadlines without losing sight of\\npriorities..\\n\\nWilling to relocate to: Bengaluru, Karnataka\\n\\nWORK EXPERIENCE\\n\\nOperational Analyst (SQL DBA) Engineer\\n\\nUNISYS -  Bengaluru, Karnataka -\\n\\nJuly 2016 to Present\\n\\n❖ Having 3.5 Years of IT experience in SQL Database Administration, System Analysis, Design,\\nDevelopment & Support of MS SQL Servers in Production, Development environments &\\nReplication and Cluster Server Environments.\\n❖ Working Experience with relational database such as SQL.\\n❖ Experience in Installation, Configuration, Maintenance and Administration of SQL Server. \\n❖ Experience in upgrading SQL Server.\\n❖ Good experience with implementing DR solution, High Availability of database servers using\\nDatabase mirroring and replications and Log Shipping.\\n❖ Experience in implementing SQL Server security and Object permissions like maintaining\\nDatabase authentication modes, creation of users, configuring permissions and assigning roles\\nto users.\\n\\nDBA Support Analyst\\n\\nMicrosoft Corporation -  Redmond, WA -\\n\\nhttps://www.indeed.com/r/Alok-Khandai/5be849e443b8f467?isid=rex-download&ikw=download-top&co=IN\\n\\n\\nJuly 2016 to Present\\n\\nClient Description:\\nMicrosoft Corporation is an American public multinational corporation headquartered in\\nRedmond, Washington, USA that develops, manufactures, licenses, and supports a wide range of\\nproducts and services predominantly related to computing through its various product divisions.\\n\\nEnvironment:\\nMicrosoft has E2E development and production environment of more than 25000 servers and\\napplications. We are responsible for pro-active monitoring of all the servers and their jobs using\\nmonitoring tools to reduce critical business impact by alerting respective peer teams. Microsoft\\nService Enterprise an ITSM tools are used for ticketing and SharePoint portal is used to store all\\ntechnical and process documentation.\\n\\nRoles and Responsibilities:\\n• Responsible for Database support, troubleshooting, planning and migration. Resource planning\\nand coordination for application migrations with project managers, application and web app\\nteams. Project involved guidance and adherence to standardized procedures for planned data\\ncenter consolidation for worldwide centers using in-house corporate and third party applications\\nbased on SQL 2000 in upgrade project to SQL 2005.\\n• Monitoring of database size and disk space in Production, Staging & Development environments\\n• Performed installation of SQL Enterprise 2005 64bit version on Windows 2003 servers on\\nEnterprise systems of clustered and standalone servers in enterprise Data Centers. Patch\\napplications.\\n• Failover cluster testing and resolution on HP servers as well as monitoring and backup reporting\\nsetup with Microsoft Operations Manager and backup teams.\\n• Working in Microsoft production environment which includes applications and servers.\\n• Configured Transactional Replication and Log Shipping with SQL Server Management Studio as\\nwell as basic account management and troubleshooting with connectivity, security and firewall\\nissues.\\n• Handling issues related to Server Availability, Performance.\\n• Performed Production support and on Call duties\\n• Conducted Performance Tuning using SQL Profiler and Windows Performance Monitor.\\n• Worked with various business groups while developing their applications, assisting in database\\ndesign, installing SQL Server clients, phasing from development to QA and to Production\\nenvironment.\\n\\nPrevious Project\\n❖ Project Title: Finance Support\\n❖ Client: Costco Wholesale Corporation (USA)\\n❖ Team size: 22\\n❖ Role: DBA Support Analyst\\n❖ Environment: Window 10\\n\\n(SQL DBA Analyst) Engineer\\n\\nHCL Technologies -  Bengaluru, Karnataka -\\n\\nNovember 2014 to July 2016\\n\\n〓 Performed server installation and configurations for SQL Server 2005 and SQL Server 2000.\\n\\n\\n\\n〓 Performed installation of SQL Server Service Packs\\n〓 Upgraded databases from SQL Server 2000 to SQL Server 2005.\\n〓 Scheduled Full and Transactional log backups for the user created and system databases in\\nthe production environment using the Database Maintenance Plan Wizard.\\n〓 Setup backup and restoration jobs for development and QA environments\\n〓 Created transactional replication for the reporting applications.\\n〓 Implemented disaster recovery solution at the remote site for the production databases using\\nLog Shipping.\\n〓 Used System monitor to find the bottlenecks in CPU, Disk I/O and memory devices and\\nimproved the database server performance.\\n〓 Used SQL Server Profiler to monitor and record database activities of particular users and\\napplications.\\n〓 Used DBCC commands to troubleshoot issues related to database consistency\\n〓 Worked with various business groups while developing their applications, assisting in database\\ndesign, installing SQL Server clients, phasing from development to QA and to Production\\nenvironment\\n\\nMicrosoft Corporation -\\n\\nNovember 2014 to July 2016\\n\\nClient Description:\\n\\n❖ Costco Wholesale Corporation operates an international chain of membership warehouses,\\nmainly under the \"Costco Wholesale\" name, that carry quality, brand name merchandise at\\nsubstantially lower prices than are typically found at conventional wholesale or retail sources. The\\nwarehouses are designed to help small-to-medium-sized businesses reduce costs in purchasing\\nfor resale and for everyday business use. Individuals may also purchase for their personal needs.\\n\\n❖ Responsibilities:\\n\\n➢ Performed server installation and configurations for SQL Server 2005 and SQL Server 2000.\\n➢ Performed installation of SQL Server Service Packs\\n➢ Upgraded databases from SQL Server 2000 to SQL Server 2005.\\n➢ Scheduled Full and Transactional log backups for the user created and system databases in\\nthe production environment using the Database Maintenance Plan Wizard.\\n➢ Setup backup and restoration jobs for development and QA environments\\n➢ Created transactional replication for the reporting applications.\\n➢ Implemented disaster recovery solution at the remote site for the production databases using\\nLog Shipping.\\n➢ Used System monitor to find the bottlenecks in CPU, Disk I/O and memory devices and improved\\nthe database server performance.\\n➢ Used SQL Server Profiler to monitor and record database activities of particular users and\\napplications.\\n➢ Used DBCC commands to troubleshoot issues related to database consistency\\n➢ Worked with various business groups while developing their applications, assisting in database\\ndesign, installing SQL Server clients, phasing from development to QA and to Production\\nenvironment\\n\\n\\n\\nEDUCATION\\n\\nB.Tech in Computer Science and Engineering in CSE\\n\\nIndira Gandhi Institute Of Technology\\n\\n2012\\n\\nSKILLS\\n\\nDatabase (3 years), SQL (3 years), Sql Dba\\n\\nADDITIONAL INFORMATION\\n\\nTECHNICAL PROFICIENCY\\n❖ Operating Environment: […] Windows95/98/XP/NT\\n❖ Database Tool: SQL Management Studio (MSSQL), Business\\nDevelopment Studio, Visual studio 2005\\n❖ Database Language: SQL, PL/SQL\\n❖ Ticket Tracking Tool: Service Now\\n❖ Reporting Tools: MS Reporting Services, SAS\\n❖ Languages: C, C++, PL/SQL', {'Skills': 'Database (3 years), SQL (3 years), Sql Dba', 'Graduation Year': '2012', 'College Name': 'B.Tech in Computer Science and Engineering in CSE', 'Location': 'Bengaluru', 'Email Address': 'indeed.com/r/Alok-Khandai/5be849e443b8f467', 'Companies worked at': 'UNISYS', 'Designation': 'Operational Analyst (SQL DBA) Engineer', 'Name': 'Alok Khandai'}), ('Ananya Chavan\\nlecturer - oracle tutorials\\n\\nMumbai, Maharashtra - Email me on Indeed: indeed.com/r/Ananya-\\nChavan/738779ab71971a96\\n\\nSeeking a responsible job with an opportunity for professional challenges and utilize my skills\\nup to its extreme.\\n\\nWORK EXPERIENCE\\n\\nlecturer\\n\\nOracle tutorials -  Mumbai, Maharashtra -\\n\\nApril 2016 to Present\\n\\nfor computer science (STD 11th and 12th) (2 years)\\n➢ Worked at \"Dr.Babasaheb Ambedkar College, Chembur (W) \" as a lecturer for • B.Sc. (Computer\\nScience & Information Technology)\\n• F.Y.J.C. (Computer Science & I.T.)\\n• S.Y.J.C. (Computer Science & I.T.)\\n➢ Worked at \"LIVE\" as a Head of the IT Department and Lecturer for Web designing.\\n➢ Worked at \"Kohinoor College Of Hotel Management\" as visiting lecturer for SEM I.\\n➢ Working at \"ORACLE TUTORIALS\" as a lecturer for computer science (STD 11th and 12th)\\n\\nEDUCATION\\n\\nMCA\\n\\nMumbai University -  Mumbai, Maharashtra\\n\\nB.Sc. in Com.Sci\\n\\nMumbai University -  Mumbai, Maharashtra\\n\\nSKILLS\\n\\nSEARCH ENGINE MARKETING (2 years), SEM (2 years), ACCESS (Less than 1 year), AJAX (Less\\nthan 1 year), APACHE (Less than 1 year)\\n\\nADDITIONAL INFORMATION\\n\\nTechnical skills:\\nLanguages: C, C++, Java (J2EE),\\nWeb Component APIS:: Jdbc, Servlet, JSP.\\nFrameworks: Spring 4 & Struts 2\\nORM Framework: Hibernate\\nWeb Development: Html5, CSS3, Java Script, Ajax &JQuery, Angular Js\\n\\nhttps://www.indeed.com/r/Ananya-Chavan/738779ab71971a96?isid=rex-download&ikw=download-top&co=IN\\nhttps://www.indeed.com/r/Ananya-Chavan/738779ab71971a96?isid=rex-download&ikw=download-top&co=IN\\n\\n\\nApplication Servers: Apache Tomcat,\\nIDE: Eclipse, Netbeans\\nDatabase: Ms-Access, Mysql\\nOperating Systems: Windows 7, 8, 10\\nFTP Client: Filezilla\\nVersioning Tools: Git\\n\\nProject Details:\\n\\n\"Real Estate Application\" (Client: Global Realtor PVT. LTD Pune)\\nFront-End: Java (J2EE), JDBC, Servlet, JSP, Jquery.\\nBack end: Mysql.\\nDuration: 6 Month (Internship)\\nCompany Name: AryanTech India Pvt. Ltd. Pune\\nMy Role: Developer as Trainee.\\nModule: Module 4.\\nDescription: Developed as a MCA Final SEM Project for\\n\"Global Realtors PVT.LTD, Hinjewadi, Pune.\"\\nThe Real Estate Web Application is an interactive, effective and revenue-generating website\\ndesigned for the Real Estate Industry. The main objective of this application is to help the Real\\nEstate Company to display unlimited number of property listings on the website.\\n\\n\"Beauty Parlor Management System\" (B.Sc. (Com.Sci.))\\nTool: VB 6.0\\nLanguage: VB\\nDatabase: MS-Access\\nOperating System: Windows XP\\nThe Beauty Parlor Management System is an easy and effective system to use. The main features\\nof this system are to avoid manual work and keep storing all appointments of customers.\\n\\n\"Web Designing Project (Reptiles.com) \" (B.Sc. (Com.Sci.))\\nLanguage: HTML and ASP\\nTool: Dreamweaver 8.0\\nDatabase: MS-Access\\nOperating System: Windows XP\\nThe Reptiles.com is a simple informative site. The main features of this system are to give all\\ninformation of Snakes.', {'Degree': 'MCA', 'Skills': 'EARCH ENGINE MARKETING (2 years), SEM (2 years), ACCESS (Less than 1 year), AJAX (Less\\nthan 1 year), APACHE (Less than 1 year)\\n\\nADDITIONAL INFORMATION\\n\\nTechnical skills:\\nLanguages: C, C++, Java (J2EE),\\nWeb Component APIS:: Jdbc, Servlet, JSP.\\nFrameworks: Spring 4 & Struts 2\\nORM Framework: Hibernate\\nWeb Development: Html5, CSS3, Java Script, Ajax &JQuery, Angular Js\\n\\nhttps://www.indeed.com/r/Ananya-Chavan/738779ab71971a96?isid=rex-download&ikw=download-top&co=IN\\nhttps://www.indeed.com/r/Ananya-Chavan/738779ab71971a96?isid=rex-download&ikw=download-top&co=IN\\n\\n\\nApplication Servers: Apache Tomcat,\\nIDE: Eclipse, Netbeans\\nDatabase: Ms-Access, Mysql\\nOperating Systems: Windows 7, 8, 10\\nFTP Client: Filezilla\\nVersioning Tools: Git', 'Location': 'Mumbai', 'College Name': 'Mumbai University', 'Designation': 'lecturer', 'Email Address': 'indeed.com/r/Ananya-\\nChavan/738779ab71971a96\\n', 'Companies worked at': ' oracle tutorials', 'Name': 'Ananya Chavan'})]\n"
          ]
        }
      ],
      "source": [
        "ner_samples = []\n",
        "\n",
        "for entry in ner_data:\n",
        "    text = entry[\"content\"]\n",
        "\n",
        "    if \"annotation\" in entry and entry[\"annotation\"]:\n",
        "        labels = {\n",
        "            label[\"label\"][0]: label[\"points\"][0][\"text\"]\n",
        "            for label in entry[\"annotation\"] if label[\"label\"] and label[\"points\"]\n",
        "        }\n",
        "    else:\n",
        "        labels = {}\n",
        "\n",
        "    ner_samples.append((text, labels))\n",
        "\n",
        "print(ner_samples[:5])"
      ]
    },
    {
      "cell_type": "code",
      "execution_count": 8,
      "id": "5fccd983",
      "metadata": {
        "colab": {
          "base_uri": "https://localhost:8080/"
        },
        "id": "5fccd983",
        "outputId": "e5956001-53a9-4078-ae19-06c9f2998a70"
      },
      "outputs": [
        {
          "output_type": "stream",
          "name": "stdout",
          "text": [
            "['(IT Tech Lead / Delivery Manager Consultant), Va'\n",
            " '10g Database Administrator' '25B Information Technology Specialist' ...\n",
            " 'undisclosed' 'vCIO - Virtual Chief Information Officer' nan]\n"
          ]
        }
      ],
      "source": [
        "from sklearn.preprocessing import LabelEncoder\n",
        "\n",
        "\n",
        "label_encoder = LabelEncoder()\n",
        "df[\"category_encoded\"] = label_encoder.fit_transform(df[\"name\"])\n",
        "\n",
        "\n",
        "print(label_encoder.classes_)\n"
      ]
    },
    {
      "cell_type": "code",
      "execution_count": 41,
      "id": "2f92d997",
      "metadata": {
        "id": "2f92d997"
      },
      "outputs": [],
      "source": [
        "import torch\n",
        "from transformers import BertTokenizer, BertForSequenceClassification\n",
        "\n",
        "\n",
        "tokenizer = BertTokenizer.from_pretrained(\"bert-base-uncased\")\n",
        "\n",
        "\n",
        "def tokenize_data(texts, labels, tokenizer, max_length=128):\n",
        "    tokens = tokenizer(\n",
        "        texts.tolist(),\n",
        "        max_length=max_length,\n",
        "        truncation=True,\n",
        "        padding=\"max_length\",\n",
        "        return_tensors=\"pt\"\n",
        "    )\n",
        "    labels = torch.tensor(labels)\n",
        "    return tokens, labels\n",
        "\n",
        "tokens, labels = tokenize_data(df[\"cleaned_name\"], df[\"category_encoded\"], tokenizer)\n"
      ]
    },
    {
      "cell_type": "code",
      "execution_count": null,
      "id": "b9ba9503",
      "metadata": {
        "colab": {
          "base_uri": "https://localhost:8080/"
        },
        "id": "b9ba9503",
        "outputId": "daca561d-ff98-4caa-bda1-14aca5b307ad"
      },
      "outputs": [
        {
          "output_type": "stream",
          "name": "stderr",
          "text": [
            "Some weights of BertForSequenceClassification were not initialized from the model checkpoint at bert-base-uncased and are newly initialized: ['classifier.bias', 'classifier.weight']\n",
            "You should probably TRAIN this model on a down-stream task to be able to use it for predictions and inference.\n"
          ]
        }
      ],
      "source": [
        "from torch.utils.data import DataLoader, TensorDataset\n",
        "from torch.optim import Adam\n",
        "import torch.nn.functional as F\n",
        "\n",
        "\n",
        "dataset = TensorDataset(tokens[\"input_ids\"], tokens[\"attention_mask\"], labels)\n",
        "dataloader = DataLoader(dataset, batch_size=16, shuffle=True)\n",
        "\n",
        "\n",
        "model = BertForSequenceClassification.from_pretrained(\"bert-base-uncased\", num_labels=len(label_encoder.classes_))\n",
        "\n",
        "\n",
        "device = torch.device(\"cuda\" if torch.cuda.is_available() else \"cpu\")\n",
        "model.to(device)\n",
        "optimizer = Adam(model.parameters(), lr=2e-5)\n",
        "\n",
        "for epoch in range(3):\n",
        "    model.train()\n",
        "    for batch in dataloader:\n",
        "        input_ids, attention_mask, labels = [b.to(device) for b in batch]\n",
        "        optimizer.zero_grad()\n",
        "        outputs = model(input_ids, attention_mask=attention_mask, labels=labels)\n",
        "        loss = outputs.loss\n",
        "        loss.backward()\n",
        "        optimizer.step()\n",
        "    print(f\"Epoch {epoch+1} Loss: {loss.item()}\")\n"
      ]
    },
    {
      "cell_type": "code",
      "execution_count": null,
      "id": "14b598bd",
      "metadata": {
        "id": "14b598bd"
      },
      "outputs": [],
      "source": [
        "from transformers import AutoModelForTokenClassification, AutoTokenizer, pipeline\n",
        "\n",
        "# Load BERT-based NER Model\n",
        "ner_model = AutoModelForTokenClassification.from_pretrained(\"dbmdz/bert-large-cased-finetuned-conll03-english\")\n",
        "ner_tokenizer = AutoTokenizer.from_pretrained(\"dbmdz/bert-large-cased-finetuned-conll03-english\")\n",
        "\n",
        "# Create NER Pipeline\n",
        "ner_pipeline = pipeline(\"ner\", model=ner_model, tokenizer=ner_tokenizer)\n",
        "\n",
        "# Test on sample resume text\n",
        "resume_text = \"Abhishek Jha is an Application Development Associate at Accenture with experience in Java, Python, and Machine Learning.\"\n",
        "ner_results = ner_pipeline(resume_text)\n",
        "\n",
        "# Print extracted entities\n",
        "for entity in ner_results:\n",
        "    print(f\"{entity['word']} → {entity['entity']}\")\n"
      ]
    },
    {
      "cell_type": "code",
      "execution_count": 24,
      "id": "ae71c7b8",
      "metadata": {
        "colab": {
          "base_uri": "https://localhost:8080/"
        },
        "id": "ae71c7b8",
        "outputId": "f78440a1-03c2-4b14-f353-901f3aec6ee9"
      },
      "outputs": [
        {
          "output_type": "stream",
          "name": "stdout",
          "text": [
            "Pranav N\n",
            "Bengaluru•+916361135685•pranavn0406@gmail.com•linkedin.com/in/pranavn46\n",
            "Results-driven Data Analyst with expertise in Python, Machine Learning and Business Intelligence. Profi\n",
            "cient in statistical methods, predictive modeling, and data visualization to drive data-driven decision-\n",
            "making.\n",
            "WORK EXPERIENCE\n",
            "Talview 08/2023 - 01/2024\n",
            "Software Intern•Internship Bengaluru\n",
            "• Developed a comprehensive Slack bot for Talview employees to streamline leave management by\n",
            "integrating with Zoho People.\n",
            "• Utilized Zoho People APIs to fetch and update leave data.\n",
            "• Implemented Redis to store access tokens securely.\n",
            "• Developed the Slack bot from scratch using Node.js, mapping employee IDsto Slack IDs using\n",
            "PostgreSQL for effi cient data management.\n",
            "• This solution signifi cantly simplifi ed the leave application process foremployees, allowing them to\n",
            "apply for leaves directly from Slack.\n",
            "EDUCATION\n",
            "Bachelor of Science in Programming & Data Science\n",
            "Indian Institute of Technology (IIT) Madras•GPA: 7.0/10 01/2026\n",
            "Master of Computer Applications (MCA)\n",
            "Dayananda Sagar College of Engineering•GPA: 8.5/10 01/2021 - 01/2023\n",
            "Bachelor of Science (BSc)\n",
            "Bangalore North University•GPA: 8.5/10 01/2018 - 01/2021\n",
            "CERTIFICATIONS\n",
            "Foundation & Diploma in Programming & Data Science\n",
            "IIT Madras\n",
            "PROJECTS\n",
            "Customer Segmentation Using K-Means Clustering\n",
            "• Implemented K-Means clustering to segment customers based on demographic and behavioral\n",
            "attributes.\n",
            "• Conducted exploratory data analysis (EDA) using Python, optimizing marketing strategies.\n",
            "• Utilized Seaborn & Matplotlib to create insightful visual dashboards for business decision-making.\n",
            "Grocery Store Sales & Inventory Analysis\n",
            "• Analyzed historical sales data to optimize inventory management and forecast demand.\n",
            "• Designed Excel-based BI dashboards tracking sales trends, stock levels, and revenue patterns.\n",
            "• Integrated Python and Excel to develop a data-driven strategy, reducing excess stock by 15%.\n",
            "SKILLS\n",
            "AI- driven analytics, API integrations, Beautiful Soup, Business Data Management, Communication skills,\n",
            "Data cleaning, Data Processing, Flask, Git, JavaScript, Matplotlib, MongoDB, MS Excel, MySQL, NumPy, Pivot tables, PostgreSQL, Power BI, Problem- solving mindset, Python, RESTful APIs, Scikit- learn, Scraping, SQL,\n",
            "Strong analytical\n"
          ]
        }
      ],
      "source": [
        "import pdfplumber\n",
        "\n",
        "def extract_text_from_pdf(pdf_path):\n",
        "    text = \"\"\n",
        "    with pdfplumber.open(pdf_path) as pdf:\n",
        "        for page in pdf.pages:\n",
        "            text += page.extract_text() + \" \"\n",
        "    return text.strip()\n",
        "\n",
        "# Example usage\n",
        "resume_text = extract_text_from_pdf(\"PranavN_Analyst.pdf\")\n",
        "print(resume_text)\n"
      ]
    },
    {
      "cell_type": "code",
      "execution_count": 35,
      "id": "753f5282",
      "metadata": {
        "id": "753f5282"
      },
      "outputs": [],
      "source": []
    },
    {
      "cell_type": "code",
      "execution_count": null,
      "id": "ac61bab6",
      "metadata": {
        "id": "ac61bab6"
      },
      "outputs": [],
      "source": [
        "!streamlit run app.py & ./cloudflared tunnel --url http://localhost:8501\n"
      ]
    },
    {
      "cell_type": "code",
      "execution_count": 30,
      "id": "45275f7b",
      "metadata": {
        "colab": {
          "base_uri": "https://localhost:8080/"
        },
        "id": "45275f7b",
        "outputId": "6584bf5c-030a-4d0b-e099-6b2b6721c156"
      },
      "outputs": [
        {
          "output_type": "stream",
          "name": "stdout",
          "text": [
            "Collecting PyPDF2\n",
            "  Downloading pypdf2-3.0.1-py3-none-any.whl.metadata (6.8 kB)\n",
            "Downloading pypdf2-3.0.1-py3-none-any.whl (232 kB)\n",
            "\u001b[2K   \u001b[90m━━━━━━━━━━━━━━━━━━━━━━━━━━━━━━━━━━━━━━━━\u001b[0m \u001b[32m232.6/232.6 kB\u001b[0m \u001b[31m3.9 MB/s\u001b[0m eta \u001b[36m0:00:00\u001b[0m\n",
            "\u001b[?25hInstalling collected packages: PyPDF2\n",
            "Successfully installed PyPDF2-3.0.1\n"
          ]
        }
      ],
      "source": [
        "!pip install PyPDF2"
      ]
    },
    {
      "cell_type": "code",
      "execution_count": null,
      "id": "51b7bda1",
      "metadata": {
        "id": "51b7bda1"
      },
      "outputs": [],
      "source": []
    },
    {
      "cell_type": "code",
      "execution_count": null,
      "id": "0e5e641b",
      "metadata": {
        "id": "0e5e641b"
      },
      "outputs": [],
      "source": []
    },
    {
      "cell_type": "code",
      "execution_count": null,
      "id": "8607feeb",
      "metadata": {
        "id": "8607feeb"
      },
      "outputs": [],
      "source": []
    },
    {
      "cell_type": "code",
      "execution_count": null,
      "id": "e63c64c8",
      "metadata": {
        "id": "e63c64c8"
      },
      "outputs": [],
      "source": []
    }
  ],
  "metadata": {
    "kernelspec": {
      "display_name": "Python 3 (ipykernel)",
      "language": "python",
      "name": "python3"
    },
    "language_info": {
      "codemirror_mode": {
        "name": "ipython",
        "version": 3
      },
      "file_extension": ".py",
      "mimetype": "text/x-python",
      "name": "python",
      "nbconvert_exporter": "python",
      "pygments_lexer": "ipython3",
      "version": "3.9.13"
    },
    "colab": {
      "provenance": [],
      "include_colab_link": true
    }
  },
  "nbformat": 4,
  "nbformat_minor": 5
}